{
 "cells": [
  {
   "cell_type": "markdown",
   "metadata": {},
   "source": [
    "# Task 5\n",
    "\n",
    "By Artem Shramko"
   ]
  },
  {
   "cell_type": "code",
   "execution_count": 1,
   "metadata": {},
   "outputs": [],
   "source": [
    "import pandas as pd\n",
    "import numpy as np\n",
    "import sys\n",
    "import itertools\n",
    "import random\n",
    "\n",
    "import scipy.sparse as sparse\n",
    "from scipy.sparse import csr_matrix\n",
    "\n",
    "import implicit \n",
    "\n",
    "from sklearn.metrics import auc, roc_curve, mean_squared_error\n",
    "from sklearn.metrics import precision_recall_curve, average_precision_score\n",
    "\n",
    "import matplotlib.pyplot as plt\n",
    "%matplotlib inline\n",
    "plt.rcParams[\"figure.figsize\"] = [12,6]"
   ]
  },
  {
   "cell_type": "code",
   "execution_count": 2,
   "metadata": {},
   "outputs": [],
   "source": [
    "# importing data, assigning row id's from the first column\n",
    "\n",
    "data = pd.read_csv(\"data.csv\", index_col=0)"
   ]
  },
  {
   "cell_type": "markdown",
   "metadata": {},
   "source": [
    "# EDA"
   ]
  },
  {
   "cell_type": "code",
   "execution_count": 3,
   "metadata": {},
   "outputs": [
    {
     "data": {
      "text/html": [
       "<div>\n",
       "<style scoped>\n",
       "    .dataframe tbody tr th:only-of-type {\n",
       "        vertical-align: middle;\n",
       "    }\n",
       "\n",
       "    .dataframe tbody tr th {\n",
       "        vertical-align: top;\n",
       "    }\n",
       "\n",
       "    .dataframe thead th {\n",
       "        text-align: right;\n",
       "    }\n",
       "</style>\n",
       "<table border=\"1\" class=\"dataframe\">\n",
       "  <thead>\n",
       "    <tr style=\"text-align: right;\">\n",
       "      <th></th>\n",
       "      <th>user_id</th>\n",
       "      <th>tutor_id</th>\n",
       "    </tr>\n",
       "    <tr>\n",
       "      <th>id</th>\n",
       "      <th></th>\n",
       "      <th></th>\n",
       "    </tr>\n",
       "  </thead>\n",
       "  <tbody>\n",
       "    <tr>\n",
       "      <th>1</th>\n",
       "      <td>00000055a78bf6735c4a89358fab1de34104c3cb</td>\n",
       "      <td>e78de9dad70d230a096f0bbdc3e89b5cae04ba77</td>\n",
       "    </tr>\n",
       "    <tr>\n",
       "      <th>2</th>\n",
       "      <td>00000055a78bf6735c4a89358fab1de34104c3cb</td>\n",
       "      <td>b9a521730141de9bc4fe8ebc9f33713411d0101a</td>\n",
       "    </tr>\n",
       "    <tr>\n",
       "      <th>3</th>\n",
       "      <td>00000055a78bf6735c4a89358fab1de34104c3cb</td>\n",
       "      <td>8378136c6dd0e03be859a210a0cee03955951fb1</td>\n",
       "    </tr>\n",
       "    <tr>\n",
       "      <th>4</th>\n",
       "      <td>00000055a78bf6735c4a89358fab1de34104c3cb</td>\n",
       "      <td>9cc68d8345f675892bcab0fad02f65b4ac7e71ea</td>\n",
       "    </tr>\n",
       "    <tr>\n",
       "      <th>5</th>\n",
       "      <td>00000055a78bf6735c4a89358fab1de34104c3cb</td>\n",
       "      <td>a8272c62cd05d5b882e4f630fb55cfa0ba8491e6</td>\n",
       "    </tr>\n",
       "  </tbody>\n",
       "</table>\n",
       "</div>"
      ],
      "text/plain": [
       "                                     user_id  \\\n",
       "id                                             \n",
       "1   00000055a78bf6735c4a89358fab1de34104c3cb   \n",
       "2   00000055a78bf6735c4a89358fab1de34104c3cb   \n",
       "3   00000055a78bf6735c4a89358fab1de34104c3cb   \n",
       "4   00000055a78bf6735c4a89358fab1de34104c3cb   \n",
       "5   00000055a78bf6735c4a89358fab1de34104c3cb   \n",
       "\n",
       "                                    tutor_id  \n",
       "id                                            \n",
       "1   e78de9dad70d230a096f0bbdc3e89b5cae04ba77  \n",
       "2   b9a521730141de9bc4fe8ebc9f33713411d0101a  \n",
       "3   8378136c6dd0e03be859a210a0cee03955951fb1  \n",
       "4   9cc68d8345f675892bcab0fad02f65b4ac7e71ea  \n",
       "5   a8272c62cd05d5b882e4f630fb55cfa0ba8491e6  "
      ]
     },
     "execution_count": 3,
     "metadata": {},
     "output_type": "execute_result"
    }
   ],
   "source": [
    "data.head()"
   ]
  },
  {
   "cell_type": "code",
   "execution_count": 4,
   "metadata": {},
   "outputs": [
    {
     "data": {
      "text/html": [
       "<div>\n",
       "<style scoped>\n",
       "    .dataframe tbody tr th:only-of-type {\n",
       "        vertical-align: middle;\n",
       "    }\n",
       "\n",
       "    .dataframe tbody tr th {\n",
       "        vertical-align: top;\n",
       "    }\n",
       "\n",
       "    .dataframe thead th {\n",
       "        text-align: right;\n",
       "    }\n",
       "</style>\n",
       "<table border=\"1\" class=\"dataframe\">\n",
       "  <thead>\n",
       "    <tr style=\"text-align: right;\">\n",
       "      <th></th>\n",
       "      <th>user_id</th>\n",
       "      <th>tutor_id</th>\n",
       "    </tr>\n",
       "  </thead>\n",
       "  <tbody>\n",
       "    <tr>\n",
       "      <th>count</th>\n",
       "      <td>9999</td>\n",
       "      <td>9999</td>\n",
       "    </tr>\n",
       "    <tr>\n",
       "      <th>unique</th>\n",
       "      <td>859</td>\n",
       "      <td>1000</td>\n",
       "    </tr>\n",
       "    <tr>\n",
       "      <th>top</th>\n",
       "      <td>0028c76d3882ac1de97c710a5c1ec65a54174de7</td>\n",
       "      <td>e9ee460fac3c729a7de68f933621a117878dad2d</td>\n",
       "    </tr>\n",
       "    <tr>\n",
       "      <th>freq</th>\n",
       "      <td>185</td>\n",
       "      <td>39</td>\n",
       "    </tr>\n",
       "  </tbody>\n",
       "</table>\n",
       "</div>"
      ],
      "text/plain": [
       "                                         user_id  \\\n",
       "count                                       9999   \n",
       "unique                                       859   \n",
       "top     0028c76d3882ac1de97c710a5c1ec65a54174de7   \n",
       "freq                                         185   \n",
       "\n",
       "                                        tutor_id  \n",
       "count                                       9999  \n",
       "unique                                      1000  \n",
       "top     e9ee460fac3c729a7de68f933621a117878dad2d  \n",
       "freq                                          39  "
      ]
     },
     "execution_count": 4,
     "metadata": {},
     "output_type": "execute_result"
    }
   ],
   "source": [
    "data.describe()"
   ]
  },
  {
   "cell_type": "markdown",
   "metadata": {},
   "source": [
    "That must have been a very picky yet dedicated user, if she/he has viewed 185 tutors:) "
   ]
  },
  {
   "cell_type": "code",
   "execution_count": 5,
   "metadata": {},
   "outputs": [
    {
     "data": {
      "text/plain": [
       "user_id    AxesSubplot(0.547727,0.125;0.352273x0.755)\n",
       "dtype: object"
      ]
     },
     "execution_count": 5,
     "metadata": {},
     "output_type": "execute_result"
    },
    {
     "data": {
      "image/png": "[encoded data removed]",
      "text/plain": [
       "<Figure size 432x288 with 2 Axes>"
      ]
     },
     "metadata": {
      "needs_background": "light"
     },
     "output_type": "display_data"
    }
   ],
   "source": [
    "fig, axes = plt.subplots(nrows=1,ncols=2)\n",
    "fig.suptitle('Distribution of User IDs')\n",
    "\n",
    "data.user_id.value_counts().plot(ax = axes[0], subplots=True) \n",
    "data.user_id.value_counts().plot.box(ax = axes[1], subplots=True)"
   ]
  },
  {
   "cell_type": "markdown",
   "metadata": {},
   "source": [
    "Significant outliers are present in the user_id column. In my opinion it does no seem quite plausible that regular users would be incentivised to view more than 30-50 tutors. Filtering out outliers should be further considered in the data prep part."
   ]
  },
  {
   "cell_type": "code",
   "execution_count": 6,
   "metadata": {},
   "outputs": [
    {
     "data": {
      "text/plain": [
       "tutor_id    AxesSubplot(0.547727,0.125;0.352273x0.755)\n",
       "dtype: object"
      ]
     },
     "execution_count": 6,
     "metadata": {},
     "output_type": "execute_result"
    },
    {
     "data": {
      "image/png": "[encoded data removed]",
      "text/plain": [
       "<Figure size 432x288 with 2 Axes>"
      ]
     },
     "metadata": {
      "needs_background": "light"
     },
     "output_type": "display_data"
    }
   ],
   "source": [
    "fig, axes = plt.subplots(nrows=1,ncols=2)\n",
    "fig.suptitle('Distribution of Tutor IDs')\n",
    "\n",
    "data.tutor_id.value_counts().plot(ax = axes[0], subplots=True) \n",
    "data.tutor_id.value_counts().plot.box(ax = axes[1], subplots=True)"
   ]
  },
  {
   "cell_type": "markdown",
   "metadata": {},
   "source": [
    "It looks like tutors and users have different ID conventions. Nevertheless, lets check if there are any tutors listed as users, since this could potentially introduce a bias."
   ]
  },
  {
   "cell_type": "code",
   "execution_count": 7,
   "metadata": {},
   "outputs": [
    {
     "name": "stdout",
     "output_type": "stream",
     "text": [
      "[]\n"
     ]
    }
   ],
   "source": [
    "users = data.user_id.unique()\n",
    "tutors = data.tutor_id.unique()\n",
    "\n",
    "tutors_as_users = [t for t in tutors if t in users]\n",
    "print(tutors_as_users)"
   ]
  },
  {
   "cell_type": "markdown",
   "metadata": {},
   "source": [
    "Does the data contain any sequential patterns, i.e. different user sessions, \n",
    "or is it simply grouped by user IDs? Here is a fast way to check\n",
    "\n",
    "To find out we check the difference between the index of the last and first \n",
    "member of the group by user id. If the number equals to the length of the \n",
    "group, then all the data is already grouped by user IDs. If not, then \n",
    "visits to tutors pages are split between different sessions."
   ]
  },
  {
   "cell_type": "code",
   "execution_count": 8,
   "metadata": {},
   "outputs": [
    {
     "data": {
      "text/plain": [
       "0"
      ]
     },
     "execution_count": 8,
     "metadata": {},
     "output_type": "execute_result"
    }
   ],
   "source": [
    "data.groupby(\"user_id\").apply(lambda x: (x.index[-1] - x.index[0])+1 != len(x)).sum()"
   ]
  },
  {
   "cell_type": "markdown",
   "metadata": {},
   "source": [
    "If any of the groups had a True value, we would have a sum above 0, and this would indicate a presense of sequential pattern. \n",
    "It follows that provided data is already grouped by user ID"
   ]
  },
  {
   "cell_type": "markdown",
   "metadata": {},
   "source": [
    "# A brief elaboration on the approach\n",
    "In the given dataset we are supplied with only two columns, ID of a user and ID of the tutor a particular user has viewed. Since we do not have any qualitative data nor impressions, like tutor reviews, Content Based and Deep Learning based Remommender System approaches are automatically filtered out. Thus, our choice is narrowed down to the Collaborative Search algotithms. Since the data does not contain any information on time trends, sessions etc., and is simply grouped by user ID, Sequential Collaborative Search algorithms will also not be considered. \n",
    "\n",
    "Given type of problem is known as Collaborative Search based on Implicit Feedback. Furthermore, the task can be considered as a user-item type of problem, no disrespect meant to the tutors, of course:) Among the options to consider are the clustering approach (KNN), and the Matrix Factorisation based approaches like Alternating Least Squares, Logistic Matrix Factorisation etc.\n",
    "\n",
    "*Note:* Sometimes tutors will be referred to as *items* as in the standardized naming convention of the user-item problem setup "
   ]
  },
  {
   "cell_type": "markdown",
   "metadata": {},
   "source": [
    "# Data Preprocessing\n",
    "Since we are to work with the Collaborative Search algorithms, first step would be to generate the so called sparse user to item matrix"
   ]
  },
  {
   "cell_type": "code",
   "execution_count": 9,
   "metadata": {},
   "outputs": [],
   "source": [
    "# We first hash the User and Tutor IDs in the new columns\n",
    "\n",
    "df = data.copy() # Well actually safety first\n",
    "\n",
    "df['user'] = df['user_id' ].apply(lambda x: np.argwhere(users  == x)[0][0])\n",
    "df['tutor']= df['tutor_id'].apply(lambda x: np.argwhere(tutors == x)[0][0])\n",
    "\n",
    "# a sparse matrix is then generated as a pivot table\n",
    "user_item = df[['user','tutor']].pivot_table(index='user', columns='tutor', aggfunc=lambda x: 1, fill_value=0)"
   ]
  },
  {
   "cell_type": "code",
   "execution_count": 10,
   "metadata": {},
   "outputs": [
    {
     "data": {
      "text/plain": [
       "6.878896"
      ]
     },
     "execution_count": 10,
     "metadata": {},
     "output_type": "execute_result"
    }
   ],
   "source": [
    "# Sparse matrices can get quite heavy due to high dimensionality. \n",
    "# Given sample is almost 7 MB. \n",
    "\n",
    "sys.getsizeof(user_item)/1000000"
   ]
  },
  {
   "cell_type": "code",
   "execution_count": 11,
   "metadata": {},
   "outputs": [],
   "source": [
    "# Common way to tackle this problem is to use Compressed Sparse Row matrix,\n",
    "# which can dramatically improve performance in therms of memory usage\n",
    "\n",
    "sparse_user_item = csr_matrix(user_item.values)"
   ]
  },
  {
   "cell_type": "code",
   "execution_count": 12,
   "metadata": {},
   "outputs": [],
   "source": [
    "# An important measure for improving model performance is sparcity of data\n",
    "# Ideally it should be below 90%, and it must be at least below 98.5% \n",
    "\n",
    "def get_sparsity(df) -> float:\n",
    "    \"\"\"\n",
    "    Utility function to calculate sparcity of the matrix,\n",
    "    i.e. what percentage if filled with zeroes\n",
    "    \"\"\"\n",
    "    return 1.0 - np.count_nonzero(df)/df.size"
   ]
  },
  {
   "cell_type": "code",
   "execution_count": 13,
   "metadata": {},
   "outputs": [
    {
     "data": {
      "text/plain": [
       "0.988359720605355"
      ]
     },
     "execution_count": 13,
     "metadata": {},
     "output_type": "execute_result"
    }
   ],
   "source": [
    "# We should consider filtering out users with very few views to increase density of the data \n",
    "\n",
    "get_sparsity(user_item)"
   ]
  },
  {
   "cell_type": "code",
   "execution_count": 14,
   "metadata": {},
   "outputs": [
    {
     "data": {
      "text/plain": [
       "<matplotlib.image.AxesImage at 0x7fef787b58d0>"
      ]
     },
     "execution_count": 14,
     "metadata": {},
     "output_type": "execute_result"
    },
    {
     "data": {
      "image/png": "[encoded data removed]",
      "text/plain": [
       "<Figure size 432x288 with 1 Axes>"
      ]
     },
     "metadata": {
      "needs_background": "light"
     },
     "output_type": "display_data"
    }
   ],
   "source": [
    "plt.spy(user_item)"
   ]
  },
  {
   "cell_type": "code",
   "execution_count": 15,
   "metadata": {},
   "outputs": [],
   "source": [
    "def threshold_density(df, uid_min=10, uid_max=25, tid_min=5, tid_max=200):\n",
    "    \"\"\"\n",
    "    Increases density of the data and removes outliers \n",
    "    by filtering out extreme observations\n",
    "    below (above) specified min (max) values\n",
    "    \"\"\"\n",
    "    n_users = df.user.unique().shape[0]\n",
    "    n_items = df.tutor.unique().shape[0]\n",
    "    density = float(df.shape[0]) / float(n_users*n_items) * 100\n",
    "    print('Before filtering')\n",
    "    print('-'*16)\n",
    "    print(f'# Users : {n_users}')\n",
    "    print(f'# Tutors: {n_items}')\n",
    "    print(f'Density : {density:4.3f}%')\n",
    "    print('\\n')\n",
    "    \n",
    "    done = False\n",
    "    while not done:\n",
    "        starting_shape = df.shape[0]\n",
    "        tid_counts = df.groupby('user').tutor.count()\n",
    "        df = df[~df.user.isin(tid_counts[tid_counts < tid_min].index.tolist())]\n",
    "        df = df[~df.user.isin(tid_counts[tid_counts > tid_max].index.tolist())]\n",
    "        uid_counts = df.groupby('tutor').user.count()\n",
    "        df = df[~df.tutor.isin(uid_counts[uid_counts < uid_min].index.tolist())]\n",
    "        df = df[~df.tutor.isin(uid_counts[uid_counts > uid_max].index.tolist())]\n",
    "        ending_shape = df.shape[0]\n",
    "        if starting_shape == ending_shape:\n",
    "            done = True\n",
    "    \n",
    "    assert(df.groupby('user').tutor.count().min() >= tid_min)\n",
    "    assert(df.groupby('tutor').user.count().min() >= uid_min)\n",
    "    \n",
    "    n_users = df.user.unique().shape[0]\n",
    "    n_items = df.tutor.unique().shape[0]\n",
    "    density = float(df.shape[0]) / float(n_users*n_items) * 100\n",
    "    print('After filtering')\n",
    "    print('-'*16)\n",
    "    print(f'# Users : {n_users}')\n",
    "    print(f'# Tutors: {n_items}')\n",
    "    print(f'Density : {density:4.3f}%')\n",
    "    return df"
   ]
  },
  {
   "cell_type": "code",
   "execution_count": 16,
   "metadata": {},
   "outputs": [
    {
     "name": "stdout",
     "output_type": "stream",
     "text": [
      "Before filtering\n",
      "----------------\n",
      "# Users : 859\n",
      "# Tutors: 1000\n",
      "Density : 1.164%\n",
      "\n",
      "\n",
      "After filtering\n",
      "----------------\n",
      "# Users : 235\n",
      "# Tutors: 285\n",
      "Density : 6.137%\n"
     ]
    }
   ],
   "source": [
    "dense_df = threshold_density(df)"
   ]
  },
  {
   "cell_type": "markdown",
   "metadata": {},
   "source": [
    "It is important to notice, that by gaining over a 5 times increase in density, we loose almost 3/4 of our data!\n",
    "\n",
    "We can first keep it this way for prototyping, but this tradeoff must be taken into serious consideration when building models for production"
   ]
  },
  {
   "cell_type": "markdown",
   "metadata": {},
   "source": [
    "## Train Test Split\n",
    "\n",
    "The train test split for sparse data is somewhat tricky. \n",
    "Unlike the common case, where rows of data are simply transfered to the test set,\n",
    "we have to hold out some interactions between user and "
   ]
  },
  {
   "cell_type": "code",
   "execution_count": 17,
   "metadata": {},
   "outputs": [],
   "source": [
    "def train_test_split(data, n_splits, fraction=None):\n",
    "    \"\"\"\n",
    "    Split tutor data into train and test sets\n",
    "    \n",
    "    :Params:\n",
    "    \n",
    "        - data : (scipy.sparse.csr_matrix) user-item matrix \n",
    "         \n",
    "        - n_splits : (int) Number of user-item-interactions per user to move\n",
    "                              from training to test set.\n",
    "        \n",
    "        - fractions : (float) Fraction of users to split off some of their\n",
    "                              interactions into test set. If None, then all\n",
    "                              users are considered.\n",
    "    :Returns:\n",
    "        - train (scipy.sparse matrix)  matrix containing train data\n",
    "        - test  (scipy.sparse matrix)  matrix containing test  data\n",
    "        - user_ids (range) range of user ids for which split procedure was applied\n",
    "    \n",
    "    ------------------------------------------------------------------------------\n",
    "    \n",
    "    P.S. Use this for a reference on sparse matrix methods and datastructures: \n",
    "         https://matteding.github.io/2019/04/25/sparse-matrices/\n",
    "    \"\"\"\n",
    "    \n",
    "    # Convert Sparse Matrix to Coordinate Matrix for improved performance \n",
    "    train = data.copy().tocoo()\n",
    "    # Linked Lists stores data in lil.data and indexes positions in lil.rows\n",
    "    test = sparse.lil_matrix(train.shape)\n",
    "    k = n_splits\n",
    "    \n",
    "    # In case if the fraction is specified, we search for user that fits the \n",
    "    # requirement of minimum k*2 interactions with tutors. Otherwise all\n",
    "    # users are used. Using fraction allows us to use bigger datasets with\n",
    "    # a less dense data\n",
    "    if fraction:\n",
    "        try:\n",
    "            # Search for user IDs that have at least twice as many interactions\n",
    "            # as the number of splits and store their IDs in a list. \n",
    "            # The train test split will be performed only on selected users\n",
    "            user_ids = np.random.choice(\n",
    "                np.where(np.bincount(train.row) >= n_splits * 2)[0], \n",
    "                # important! This will trigger an error is rows doest fit in\n",
    "                replace=False,\n",
    "                size=int(fraction * train.shape[0])\n",
    "            ).tolist()\n",
    "        except:\n",
    "            print((f\"Not enough users with > {2*k} \"\n",
    "                  f\"interactions for fraction of {fraction} \\n\"))\n",
    "            raise\n",
    "    else:\n",
    "        # If fraction is not specified, all users are used\n",
    "        user_ids = range(train.shape[0])\n",
    "    \n",
    "    # Converting matrix to List of Lists format\t\n",
    "    train = train.tolil()\n",
    "\n",
    "    # Main logic of the function\n",
    "    # 1. Randomly choose k interactions in dataset\n",
    "    # 2. Set their values to 0 in thain\n",
    "    # 3. Set their values to 1 in test\n",
    "    for user in user_ids:\n",
    "        test_data = np.random.choice(data.getrow(user).indices, \n",
    "                                        size=n_splits, \n",
    "                                        replace=False)\n",
    "        train[user, test_data] = 0.\n",
    "        test[user, test_data] = data[user, test_data]\n",
    "   \n",
    "    # Check if test and train are disjoint\n",
    "    assert(train.multiply(test).nnz == 0)\n",
    "    return train.tocsr(), test.tocsr(), user_ids"
   ]
  },
  {
   "cell_type": "code",
   "execution_count": 18,
   "metadata": {},
   "outputs": [],
   "source": [
    "# If we try to split the data without replacement with a fraction higher than 1, error is raised\n",
    "# This is due to the fact that the data is very sparce\n",
    "# Thus we only apply the split to the 30% fraction of data which has more values than the split size\n",
    "\n",
    "train, test, test_user_ids = train_test_split(sparse_user_item, 5, 0.3)"
   ]
  },
  {
   "cell_type": "code",
   "execution_count": 38,
   "metadata": {},
   "outputs": [
    {
     "data": {
      "text/plain": [
       "<matplotlib.image.AxesImage at 0x7fef75d2e7b8>"
      ]
     },
     "execution_count": 38,
     "metadata": {},
     "output_type": "execute_result"
    },
    {
     "data": {
      "image/png": "[encoded data removed]",
      "text/plain": [
       "<Figure size 432x288 with 2 Axes>"
      ]
     },
     "metadata": {
      "needs_background": "light"
     },
     "output_type": "display_data"
    }
   ],
   "source": [
    "# Plotting the sparsity of the obtained train and test data\n",
    "\n",
    "fig, (ax1, ax2) = plt.subplots(1, 2)\n",
    "fig.suptitle('Density of train and test splits. Split counts: 5 per row, 30% of users.')\n",
    "ax1.spy(train.todense())\n",
    "ax2.spy(test.todense())"
   ]
  },
  {
   "cell_type": "code",
   "execution_count": 20,
   "metadata": {},
   "outputs": [],
   "source": [
    "def df_to_sparse_matrix(df, user_col:str = 'user_id', tutor_col:str = 'tutor_id'):\n",
    "    \"\"\"\n",
    "    Converting a pandas dataframe to a user-to-tutor [N_users x N_tutors] sparse matrix\n",
    "    Each row represents a unique user, each column a unique tutor. \n",
    "    If user has viewed a tutor -> matrix[user_id, tutor_id] = 1 \n",
    "    Otherwise zero.\n",
    "    \n",
    "    :Params:\n",
    "        - df:        (pandas.DataFrame) containing 2 columns to be transformed\n",
    "        - user_col:  (str) column in df representing users (rows in sparse matrix)\n",
    "        - tutor_col: (str) column in df representing tutors (columns in sparse matrix)\n",
    "    :Returns:\n",
    "        - user-to-tutor sparse matrix (sklearn.sparse.csr_matrix)\n",
    "    \"\"\"\n",
    "    # Converting string values of user and tutor ids to hash values based on their position\n",
    "    df['user'] = df[user_col ].apply(lambda x: np.argwhere(users  == x)[0][0])\n",
    "    df['tutor']= df[tutor_col].apply(lambda x: np.argwhere(tutors == x)[0][0])\n",
    "    \n",
    "    # Pivot table, where each interaction between user and tutor is marked as 1\n",
    "    user_tutor = df[['user','tutor']].pivot_table(index='user', columns='tutor', \n",
    "                                                  aggfunc=lambda x: 1, fill_value=0)\n",
    "    \n",
    "    return csr_matrix(user_tutor.values)"
   ]
  },
  {
   "cell_type": "code",
   "execution_count": 21,
   "metadata": {},
   "outputs": [
    {
     "name": "stdout",
     "output_type": "stream",
     "text": [
      "Before filtering\n",
      "----------------\n",
      "# Users : 859\n",
      "# Tutors: 1000\n",
      "Density : 1.164%\n",
      "\n",
      "\n",
      "After filtering\n",
      "----------------\n",
      "# Users : 235\n",
      "# Tutors: 285\n",
      "Density : 6.137%\n"
     ]
    }
   ],
   "source": [
    "# It will be better to evaluate the model on the data with higher density\n",
    "# For now we will concentrate on the filtered dataset\n",
    "\n",
    "# Filtering df for dense observations\n",
    "dense_df = threshold_density(df)\n",
    "\n",
    "# Converting df to user-tutor matrix\n",
    "d_sparse_user_tutor = df_to_sparse_matrix(dense_df)\n",
    "\n",
    "d_train, d_test, d_test_user_ids = train_test_split(d_sparse_user_tutor, 5)"
   ]
  },
  {
   "cell_type": "code",
   "execution_count": 22,
   "metadata": {},
   "outputs": [
    {
     "data": {
      "text/plain": [
       "<matplotlib.image.AxesImage at 0x7fef78681f28>"
      ]
     },
     "execution_count": 22,
     "metadata": {},
     "output_type": "execute_result"
    },
    {
     "data": {
      "image/png": "[encoded data removed]",
      "text/plain": [
       "<Figure size 432x288 with 2 Axes>"
      ]
     },
     "metadata": {
      "needs_background": "light"
     },
     "output_type": "display_data"
    }
   ],
   "source": [
    "fig, (ax1, ax2) = plt.subplots(1, 2)\n",
    "fig.suptitle('Density of train and test splits. Filtered data. Split count: 5')\n",
    "ax1.spy(d_train.todense())\n",
    "ax2.spy(d_test.todense())"
   ]
  },
  {
   "cell_type": "markdown",
   "metadata": {},
   "source": [
    "# Modelling\n",
    "\n",
    "After some considerations I have decided for the Matrix Factorisation based models.\n",
    "\n",
    "Among the options that we had, we could use either memory based or model based approach. \n",
    "The model based approach is preferred for obvious reasons. Our next decision is basically between clustering and matrix factorisation based algorithms. \n",
    "KNN is known to face a performance drop on sparse datasets, besides ever since the famous Netflix competition the focus has shifted towards other approaches, thus in this task we decide for matrix factorisation. KNN should be used as a baseline for model selection though. \n",
    "\n",
    "The key idea behind Matrix Factorisation is that we assume, that  the observed user to item matrix is a product of two matrices containing hidden factors, that can explain the observed interactions / user preferences. In a way, it can be observed as a contrained optimisation problem with a loss function. We can then make predictions regarding the user preferences based on the obtained hidden factor matrices by simply finding their dot product. In the obtained matrix higher predicted scores represent the higher probability of user interacting with an item.  \n",
    "\n",
    "The Alternating Least Square (ALS) is an algorithm that helps us find those latent factors (decompose the user-item matrix). After providing a general idea of the algorithm, lets dive into code. You can find further details on the algorithm [in the original paper](http://yifanhu.net/PUB/cf.pdf) \n",
    "\n",
    "For this task, we will be using the python implementation of ALS from package *implicit* ([docs](https://implicit.readthedocs.io/en/latest/als.html), [github](https://github.com/benfred/implicit))\n"
   ]
  },
  {
   "cell_type": "markdown",
   "metadata": {},
   "source": [
    "   "
   ]
  },
  {
   "cell_type": "code",
   "execution_count": 23,
   "metadata": {},
   "outputs": [],
   "source": [
    "! export OPENBLAS_NUM_THREADS=1"
   ]
  },
  {
   "cell_type": "code",
   "execution_count": 24,
   "metadata": {},
   "outputs": [
    {
     "name": "stderr",
     "output_type": "stream",
     "text": [
      "WARNING:root:OpenBLAS detected. Its highly recommend to set the environment variable 'export OPENBLAS_NUM_THREADS=1' to disable its internal multithreading\n"
     ]
    },
    {
     "name": "stdout",
     "output_type": "stream",
     "text": [
      "CPU times: user 6 µs, sys: 1e+03 ns, total: 7 µs\n",
      "Wall time: 11.9 µs\n"
     ]
    },
    {
     "data": {
      "application/vnd.jupyter.widget-view+json": {
       "model_id": "957cb20883d64e45933aa82c5c193a16",
       "version_major": 2,
       "version_minor": 0
      },
      "text/plain": [
       "HBox(children=(IntProgress(value=0, max=15), HTML(value='')))"
      ]
     },
     "metadata": {},
     "output_type": "display_data"
    },
    {
     "name": "stdout",
     "output_type": "stream",
     "text": [
      "\n"
     ]
    }
   ],
   "source": [
    "%time\n",
    "\n",
    "# initialize a model\n",
    "d_model = implicit.als.AlternatingLeastSquares(factors=20, calculate_training_loss=True)\n",
    "\n",
    "#d_sparse_item_user\n",
    "alpha = 15\n",
    "\n",
    "d_model.fit(d_train.T*alpha, show_progress=True)"
   ]
  },
  {
   "cell_type": "code",
   "execution_count": 40,
   "metadata": {},
   "outputs": [
    {
     "data": {
      "text/plain": [
       "[(0, 0.060065906),\n",
       " (191, 0.042627756),\n",
       " (149, 0.041405514),\n",
       " (1, 0.032009512),\n",
       " (182, 0.03200334),\n",
       " (158, 0.029654222),\n",
       " (212, 0.028684271),\n",
       " (202, 0.02859981),\n",
       " (175, 0.0271766),\n",
       " (180, 0.026773853)]"
      ]
     },
     "execution_count": 40,
     "metadata": {},
     "output_type": "execute_result"
    }
   ],
   "source": [
    "# The model has a built in method to return similar items based on the provided item ID.\n",
    "# It returns a list of tuples with N recommendations and respetive scores. As you can see,\n",
    "# the recommendations are ordered based on their scores (desc)\n",
    "\n",
    "d_model.similar_items(0)"
   ]
  },
  {
   "cell_type": "markdown",
   "metadata": {},
   "source": [
    "# Evaluation\n",
    "Evaluation requires certain considerations to be taken into account.\n",
    "One option would be to get the predicted tutor IDs for a user and compare them with the actual click stream data. \n",
    "However, we are somewhat limited by the mechanics of the model, since it recommends a fixed amount of tutors K.\n",
    "Thus, the error would ambiguous, when tested on the users, who did not visit the exact amount of tutors as the model is told to predict.\n",
    "Limitig the test set to the users with number of visits equal to K will not be representative for the dataset.\n",
    "\n",
    "The alternative and better solution would be to extract the predicted factor vectors for users and items from the model, \n",
    "find their dot product (i.e. reconstructed user-item matrix) and compare the scores to the true binary values. \n",
    "Factor vecors lay at the core of Alternating Least Squares algorithm and the same scores are used when generating K predictions.\n",
    "Thus, by extracting the factors from the model we are obtaining a workaround to the obstacle desribed above.\n",
    "\n",
    "### Measures\n",
    "\n",
    "Since we are dealing with very sparse data, we need to take into account for high class imbalance when selecting metrics. We will use AUC (Area under the Curve) metric for both ROC (Receiver Operating Characteristics) as well as the Precision-Recall curve.\n",
    "\n",
    "ROC basicall tells how much our recommender system is capable of distinguishing whether a user would be interested in viewing a tutor. \n",
    "\n",
    "But since we are dealing with a very high class imbalance (to be precise, we will need to classify 5 out of 285 tutors on filtered data correctly), the Precision-Recall curve is often preferred. It is especially usefull for the problems with a lot of 0 and few 1, since this measure is less interested in correclty specifying the negative (0) classes and is focused on the true positives, i.e. tutor views. \n",
    "\n",
    "Besides, we should also consider using solely the precision as well. The precision is intuitively the ability of the model not to label as positive a sample that is negative."
   ]
  },
  {
   "cell_type": "code",
   "execution_count": 25,
   "metadata": {},
   "outputs": [],
   "source": [
    "def calculate_roc_auc(y_pred, y_true) -> float:\n",
    "    '''\n",
    "    Area under the Receiver Operating Characterisic curve\n",
    "    \n",
    "    :Params:\n",
    "    \n",
    "    - y_pred: 1D Array of predicted values\n",
    "    \n",
    "    - y_true: 1D Array of true values\n",
    "    \n",
    "    Returns:\n",
    "    \n",
    "    - ROC AUC value (float)\n",
    "    '''\n",
    "    \n",
    "    fpr, tpr, _ = roc_curve(y_true, y_pred)\n",
    "    return auc(fpr, tpr) "
   ]
  },
  {
   "cell_type": "code",
   "execution_count": 26,
   "metadata": {},
   "outputs": [],
   "source": [
    "def calculate_pr_auc(y_pred, y_true) -> float:\n",
    "    '''\n",
    "    Area under the Precision-Recall curve\n",
    "    \n",
    "    :Params:\n",
    "    \n",
    "    - y_pred: 1D Array of predicted values\n",
    "    \n",
    "    - y_true: 1D Array of true values\n",
    "    \n",
    "    Returns:\n",
    "    \n",
    "    - Precision-Recall AUC value (float)\n",
    "    '''\n",
    "    \n",
    "    precision, recall, _ = precision_recall_curve(y_true, y_pred)\n",
    "    return auc(recall, precision) "
   ]
  },
  {
   "cell_type": "code",
   "execution_count": 27,
   "metadata": {},
   "outputs": [],
   "source": [
    "def get_metric_scores(train, test, test_user_ids, user_factors, item_factors) -> dict:\n",
    "    '''\n",
    "    This function will calculate the mean AUC by user for any user \n",
    "    that had their user-item matrix altered. \n",
    "    \n",
    "    :Params:\n",
    "    \n",
    "        - train - train dataset with some item interactions (tutor views) hidden\n",
    "                       \n",
    "        - test -  test dataset containing the true item interactions \n",
    "                  extracted from the train set\n",
    "\n",
    "        - test_user_ids - ids of user for whom the train_test_split procedure \n",
    "                          was applied to \n",
    "       \n",
    "       -------------------------------------------------------------------------------\n",
    "        Following two parameters are the vectors containig predicted user \n",
    "        and item factors by applying the Matrix Factorisation procedure \n",
    "        on the initial user-item matrix:\n",
    "        \n",
    "        - user_factors - matrix [n_users   : n_factors] \n",
    "                         Array of latent factors for each item in the training set\n",
    "        \n",
    "        - item_factors - matrix [n_factors :   n_items] \n",
    "                         Array of latent factors for each user in the training set    \n",
    "    \n",
    "    :Returns:\n",
    "    \n",
    "        - The average ROC AUC   (float)\n",
    "        - The average PR AUC    (float)\n",
    "        - The average Precision (float)\n",
    "        - The average MSE       (float)\n",
    "        \n",
    "        !Both measures are calculated only on user rows, \n",
    "         where data has been kept out for the test purposes!\n",
    "    \n",
    "    '''\n",
    "    \n",
    "    # The measures are calculated based on each user (row), which has been alternated for \n",
    "    # testing purposes.\n",
    "    roc_auc_list = [] # ROC AUC values\n",
    "    mse_list = [] # MSE values  \n",
    "    pr_auc_list = [] # Precision-Recall AUC values\n",
    "    precision_list = [] # Precision values\n",
    "    \n",
    "    for user in test_user_ids: # Iterate through each user that had an item altered\n",
    "        \n",
    "        # We look into each tow in the training set, where some of the true values\n",
    "        # were removed during the train test split. \n",
    "        train_row = train[user,:].toarray().reshape(-1)\n",
    "        # We also remove the items impressions that are already contained in the\n",
    "        # training set, because they can bias our scores.\n",
    "        # For each test row, only the items with no actions (0) are considered\n",
    "        test_item_ids = np.where(train_row == 0)\n",
    "        \n",
    "        # Here we reconstruct the user - item sparse matrix from the factor vectors\n",
    "        # The obtained values represent the likelihood of a user to interact with item,\n",
    "        # i.e. view the tutor\n",
    "        user_vector = user_factors[user,:]\n",
    "        y_pred = user_vector.dot(item_factors).toarray()[0,test_item_ids].reshape(-1)\n",
    "        \n",
    "        # For the True values, we exclude the tutor views that have already been \n",
    "        # observed in the train dataset\n",
    "        y_true = test[user,:].toarray()[0,test_item_ids].reshape(-1) \n",
    "        \n",
    "        # Appending the measure lists. Mean value is calculated upon return\n",
    "        roc_auc_list.append(calculate_roc_auc(y_pred, y_true)) \n",
    "        mse_list.append(mean_squared_error(y_pred, y_true)) \n",
    "        pr_auc = calculate_pr_auc(y_pred, y_true)\n",
    "        pr_auc_list.append(pr_auc)\n",
    "        precision_list.append(average_precision_score(y_true, y_pred))\n",
    "    \n",
    "    # Dictionary containing average scores for metrics\n",
    "    scores = {\"roc_auc\":np.mean(roc_auc_list),\n",
    "                 \"pr_auc\":np.mean(pr_auc_list),\n",
    "                 \"precision\":np.mean(precision_list),\n",
    "                 \"mse\":np.mean(mse_list)}\n",
    "    \n",
    "    return scores \n"
   ]
  },
  {
   "cell_type": "code",
   "execution_count": 28,
   "metadata": {},
   "outputs": [
    {
     "data": {
      "text/plain": [
       "{'roc_auc': 0.7446640595027358,\n",
       " 'pr_auc': 0.22827563368424564,\n",
       " 'precision': 0.18765984267048091,\n",
       " 'mse': 0.05626766148022972}"
      ]
     },
     "execution_count": 28,
     "metadata": {},
     "output_type": "execute_result"
    }
   ],
   "source": [
    "# Test evaluation function\n",
    "get_metric_scores(d_train, d_test, d_test_user_ids, \n",
    "              sparse.csr_matrix(d_model.user_factors), sparse.csr_matrix(d_model.item_factors.T))"
   ]
  },
  {
   "cell_type": "markdown",
   "metadata": {},
   "source": [
    "# Model Selection\n",
    "In this section we compare three Matrix Factorisation based models:\n",
    "\n",
    "- Alternating Least Squares\n",
    "- Bayesian Personalized Ranking\n",
    "- Logistic Matrix Factorization\n",
    "\n",
    "*Note* Ideally we would start with a simple baseline model, \n",
    "for exaple a memory based Collaborative Filtering based on \n",
    "Pearson Score. We would also add a clustering model, i.e. KNN, \n",
    "for performance comparison. \n",
    "\n",
    "However, this would most likely require us to refactor our \n",
    "evaluation functions, which is not feasible at the moment \n",
    "due to the imposed time constraints on the task."
   ]
  },
  {
   "cell_type": "code",
   "execution_count": 29,
   "metadata": {},
   "outputs": [],
   "source": [
    "def evaluate_model(train, test, test_user_ids, model) -> dict:\n",
    "    \"\"\"\n",
    "    Utility function for model evaluation\n",
    "    \n",
    "    :Params:\n",
    "        - train (crs matrix)\n",
    "        - test  (crs matrix)\n",
    "        - test_user_ids (list / iterator)\n",
    "        - model (model object) - model to be evaluated\n",
    "    \n",
    "    :Uses:\n",
    "        - get_metric_scores() function\n",
    "    :\n",
    "    \"\"\"\n",
    "    \n",
    "    model.fit(train.T*alpha, show_progress=True)\n",
    "\n",
    "    return get_metric_scores(train, test, test_user_ids, \n",
    "                      sparse.csr_matrix(model.user_factors), \n",
    "                      sparse.csr_matrix(model.item_factors.T))\n",
    "    "
   ]
  },
  {
   "cell_type": "code",
   "execution_count": 30,
   "metadata": {},
   "outputs": [
    {
     "name": "stdout",
     "output_type": "stream",
     "text": [
      "CPU times: user 5 µs, sys: 1 µs, total: 6 µs\n",
      "Wall time: 11.4 µs\n",
      "Filtering Dataset\n",
      "------------------------------\n",
      "Before filtering\n",
      "----------------\n",
      "# Users : 859\n",
      "# Tutors: 1000\n",
      "Density : 1.164%\n",
      "\n",
      "\n",
      "After filtering\n",
      "----------------\n",
      "# Users : 235\n",
      "# Tutors: 285\n",
      "Density : 6.137%\n",
      "\n",
      "Evaluating Models\n",
      "------------------------------\n",
      "Alternating Least Squares\n"
     ]
    },
    {
     "data": {
      "application/vnd.jupyter.widget-view+json": {
       "model_id": "108434ce9b704fa7b9d1ee0e6808f2ba",
       "version_major": 2,
       "version_minor": 0
      },
      "text/plain": [
       "HBox(children=(IntProgress(value=0, max=15), HTML(value='')))"
      ]
     },
     "metadata": {},
     "output_type": "display_data"
    },
    {
     "name": "stdout",
     "output_type": "stream",
     "text": [
      "\n",
      "Bayesian Personalized Ranking\n"
     ]
    },
    {
     "data": {
      "application/vnd.jupyter.widget-view+json": {
       "model_id": "20d168bedfe14ca4991a818a830098fc",
       "version_major": 2,
       "version_minor": 0
      },
      "text/plain": [
       "HBox(children=(IntProgress(value=0), HTML(value='')))"
      ]
     },
     "metadata": {},
     "output_type": "display_data"
    },
    {
     "name": "stdout",
     "output_type": "stream",
     "text": [
      "\n",
      "Logistic Matrix Factorization\n"
     ]
    },
    {
     "data": {
      "application/vnd.jupyter.widget-view+json": {
       "model_id": "34b7d729106a49b996ee214c0d56f676",
       "version_major": 2,
       "version_minor": 0
      },
      "text/plain": [
       "HBox(children=(IntProgress(value=0, max=30), HTML(value='')))"
      ]
     },
     "metadata": {},
     "output_type": "display_data"
    },
    {
     "name": "stdout",
     "output_type": "stream",
     "text": [
      "\n",
      "\n",
      "Model Scores\n",
      "------------------------------\n"
     ]
    },
    {
     "data": {
      "text/html": [
       "<div>\n",
       "<style scoped>\n",
       "    .dataframe tbody tr th:only-of-type {\n",
       "        vertical-align: middle;\n",
       "    }\n",
       "\n",
       "    .dataframe tbody tr th {\n",
       "        vertical-align: top;\n",
       "    }\n",
       "\n",
       "    .dataframe thead th {\n",
       "        text-align: right;\n",
       "    }\n",
       "</style>\n",
       "<table border=\"1\" class=\"dataframe\">\n",
       "  <thead>\n",
       "    <tr style=\"text-align: right;\">\n",
       "      <th></th>\n",
       "      <th>mse</th>\n",
       "      <th>pr_auc</th>\n",
       "      <th>precision</th>\n",
       "      <th>roc_auc</th>\n",
       "    </tr>\n",
       "  </thead>\n",
       "  <tbody>\n",
       "    <tr>\n",
       "      <th>ALS</th>\n",
       "      <td>0.092873</td>\n",
       "      <td>0.272299</td>\n",
       "      <td>0.300579</td>\n",
       "      <td>0.842002</td>\n",
       "    </tr>\n",
       "    <tr>\n",
       "      <th>BPR</th>\n",
       "      <td>0.417185</td>\n",
       "      <td>0.213795</td>\n",
       "      <td>0.240687</td>\n",
       "      <td>0.814111</td>\n",
       "    </tr>\n",
       "    <tr>\n",
       "      <th>LMF</th>\n",
       "      <td>4.286052</td>\n",
       "      <td>0.190667</td>\n",
       "      <td>0.218609</td>\n",
       "      <td>0.803064</td>\n",
       "    </tr>\n",
       "  </tbody>\n",
       "</table>\n",
       "</div>"
      ],
      "text/plain": [
       "          mse    pr_auc  precision   roc_auc\n",
       "ALS  0.092873  0.272299   0.300579  0.842002\n",
       "BPR  0.417185  0.213795   0.240687  0.814111\n",
       "LMF  4.286052  0.190667   0.218609  0.803064"
      ]
     },
     "execution_count": 30,
     "metadata": {},
     "output_type": "execute_result"
    }
   ],
   "source": [
    "%time\n",
    "\n",
    "als = implicit.als.AlternatingLeastSquares(factors=20)\n",
    "bpr = implicit.bpr.BayesianPersonalizedRanking(factors=20)\n",
    "lmf = implicit.lmf.LogisticMatrixFactorization(factors=20)\n",
    "\n",
    "models = {\"Alternating Least Squares\": als,\n",
    "         \"Bayesian Personalized Ranking\": bpr,\n",
    "         \"Logistic Matrix Factorization\": lmf}\n",
    "\n",
    "print(\"Filtering Dataset\")\n",
    "print(\"-\"*30)\n",
    "\n",
    "test_dense_df = threshold_density(df, uid_min=10, uid_max=25, tid_min=5, tid_max=200)\n",
    "t_sparse_user_item = df_to_sparse_matrix(test_dense_df)\n",
    "\n",
    "# In order to get better inference on the performance of the model, we limit \n",
    "# out test dataset to the users with 16+ views due to high sparsity of the\n",
    "# data. This is acceptable when we compare models against each other, i.e.\n",
    "# metric scores are evaluated relatively to each other. In order to get\n",
    "# an insight on final model performance, complete dataset should be included.\n",
    "train, test, test_user_ids = train_test_split(t_sparse_user_item, 8, 0.35)\n",
    "\n",
    "print(\"\\nEvaluating Models\")\n",
    "print(\"-\"*30)\n",
    "\n",
    "model_scores = []\n",
    "\n",
    "for name, model in models.items():\n",
    "    print(name)\n",
    "    scores = evaluate_model(train, test, test_user_ids, model)\n",
    "    model_scores.append(scores)\n",
    "\n",
    "    \n",
    "print(\"\\nModel Scores\")\n",
    "print(\"-\"*30)\n",
    "    \n",
    "pd.DataFrame(model_scores, index=[\"ALS\", \"BPR\", \"LMF\"])"
   ]
  },
  {
   "cell_type": "markdown",
   "metadata": {},
   "source": [
    "It can be clearly seen, that Alternating Least Squares algorithm outperforms its competitors by all metrics.\n",
    "The important ones for us are the Precision-Recall AUC and Precision metrics. It can goughly be interpreted as \n",
    "for 1/4th of the cases the model has correctly recommended a tutor, i.e. a user has viewed the tutor in reality. \n",
    "\n",
    "As described in the Evaluation section, the ROC AUC value is not very informative here. If we are to include more data\n",
    "with lower number od splits (i.e. even higher class imbalance than currently), the ROC AUC will actually go up, whilst\n",
    "precision and P-R AUC will drop significantly. \n",
    "\n",
    "The MSE measure is technically not informative here. All it says is that the scores in the predicted factorised matrix \n",
    "values have a higher range for LMF and BPR models compared to ALS, which is due to the mechanics of the algirithm. \n",
    "\n",
    "We will procede further on with the Alternating Least Squares algorithm. "
   ]
  },
  {
   "cell_type": "markdown",
   "metadata": {},
   "source": [
    "# Model Tuning"
   ]
  },
  {
   "cell_type": "markdown",
   "metadata": {},
   "source": [
    "I am not going to implement this part due to the time constraints, since grind search procedure can be quite time consuming.\n",
    "\n",
    "But I believe it is important to mention the steps that I would otherwise take.\n",
    "\n",
    "If we look into the documentation [link](https://implicit.readthedocs.io/en/latest/als.html), several model parameters grab our attention right away: \n",
    "\n",
    "- factors (int, optional) – The number of latent factors to compute\n",
    "- regularization (float, optional) – The regularization factor to use\n",
    "- iterations (int, optional) – The number of ALS iterations to use when fitting data\n",
    "\n",
    "It would be optimal to get acquainted with the original paper on the algorithm to get a better undertanding of how those settings can affect the model.\n",
    "\n",
    "Then I would look up some papers on model benchmarking for implicit feedback collaborative search to get the idea of the ranges for those parameters (and maybe get inspired to try out some additional models for the previous step). \n",
    "\n",
    "The grid search algorithm would be an iterator over possible combinations of params within the specified ranges, that would store learning curves for each model parametrisation. \n",
    "In the end, the best performing combination would be selected\n",
    "\n"
   ]
  },
  {
   "cell_type": "markdown",
   "metadata": {},
   "source": [
    "# Making Predictions"
   ]
  },
  {
   "cell_type": "code",
   "execution_count": 31,
   "metadata": {},
   "outputs": [],
   "source": [
    "# Since we will be further working with sparse matrices, \n",
    "# we should consider a convenient way of converting the obtained hashed IDs\n",
    "# into their original values\n",
    "\n",
    "class Mapper:\n",
    "    \"\"\"\n",
    "    Maps tutor and user IDs to their hashed values.\n",
    "    Useful for converting model output into original IDs.\n",
    "    \n",
    "    :Params:\n",
    "       - df:            (pandas obj) Dataset\n",
    "       - user_col:      (str)        Name of the user column with IDs\n",
    "       - tutor_col:     (str)        Name of the tutor column with IDs\n",
    "        \n",
    "    :Methods:\n",
    "       - get_tutor_id   (public)     Converts given id into its hashed form\n",
    "                                    and vice versa\n",
    "       - get_user_id    (public)     -//-\n",
    "        \n",
    "       - _map_tutor_ids (protected)  maps tutor IDs to hash values\n",
    "       - _map_user_ids  (protected)  maps user IDs to hash values\n",
    "    \"\"\"\n",
    "    \n",
    "    def __init__(self, df, user_col:str, tutor_col:str):\n",
    "        \n",
    "        self._tid_to_idx = {} # tutor id to hash\n",
    "        self._idx_to_tid = {} # hash to tutor id\n",
    "        self._uid_to_idx = {} # user id to hash\n",
    "        self._idx_to_uid = {} # hash to user id\n",
    "        \n",
    "        self._map_tutor_ids(df, tutor_col)\n",
    "        self._map_user_ids(df, user_col)\n",
    "    \n",
    "    def _map_tutor_ids(self, df, tutor_id:str):\n",
    "        \"\"\"\n",
    "        Maps tutor IDs from the dataset\n",
    "        to their hashed values\n",
    "        \"\"\"\n",
    "        \n",
    "        for (idx, tid) in enumerate(df[tutor_id].unique().tolist()):\n",
    "            self._tid_to_idx[tid] = idx\n",
    "            self._idx_to_tid[idx] = tid\n",
    "            \n",
    "    def _map_user_ids(self, df, user_id:str):\n",
    "        \"\"\"\n",
    "        Maps user IDs from the dataset\n",
    "        to their hashed values\n",
    "        \"\"\"\n",
    "\n",
    "        for (idx, uid) in enumerate(df[user_id].unique().tolist()):\n",
    "            self._uid_to_idx[uid] = idx\n",
    "            self._idx_to_uid[idx] = uid\n",
    "            \n",
    "    def get_tutor_id(self, index):\n",
    "        \"\"\"\n",
    "        Getter for tutor IDs\n",
    "        \n",
    "        :Params:\n",
    "            - index (str / int) - ID either original or hashed\n",
    "            \n",
    "        :Returns:\n",
    "            - ID    (int / str) - converted value of the ID\n",
    "        \"\"\"\n",
    "        if type(index)==str:\n",
    "            return self._tid_to_idx[index]\n",
    "        elif type(index)==int:\n",
    "            return self._idx_to_tid[index]\n",
    "        else:\n",
    "            print(\"False format. Accepts types <str>, <id>\")\n",
    "            \n",
    "    def get_user_id(self, index):\n",
    "        \"\"\"\n",
    "        Getter for user IDs\n",
    "        \n",
    "        :Params:\n",
    "            - index (str / int) - ID either original or hashed\n",
    "            \n",
    "        :Returns:\n",
    "            - ID    (int / str) - converted value of the ID\n",
    "        \"\"\"\n",
    "        if type(index)==str:\n",
    "            return self._uid_to_idx[index]\n",
    "        elif type(index)==int:\n",
    "            return self._idx_to_uid[index]\n",
    "        else:\n",
    "            print(\"False format. Accepts types <str>, <id>\")"
   ]
  },
  {
   "cell_type": "code",
   "execution_count": 32,
   "metadata": {},
   "outputs": [],
   "source": [
    "# Initialising mapper \n",
    "\n",
    "mapper = Mapper(test_dense_df, \"user_id\", \"tutor_id\")"
   ]
  },
  {
   "cell_type": "code",
   "execution_count": 33,
   "metadata": {},
   "outputs": [],
   "source": [
    "# In order to get recommendation of similar tutors, we use\n",
    "# a built in method \"similar_items\"\n",
    "\n",
    "def recommend_tutors(tutor_id:str, model, mapper) -> list:\n",
    "    \"\"\"\n",
    "    Returns recommendation of similar tutors\n",
    "    based on the provided tutor ID\n",
    "    \n",
    "    :Params:\n",
    "        - tutor_id: (str) Tutor ID to recommend upon\n",
    "        - model:    (implicit) Fitted model instance\n",
    "        - mapper:   (Mapper) Instance of Mapper containing\n",
    "                             ID to hash mappings\n",
    "                            \n",
    "    :Returns:\n",
    "        List of tutor ID strings\n",
    "    \"\"\"\n",
    "    idx = mapper.get_tutor_id(tutor_id)\n",
    "    pred_idx = model.similar_items(idx, 11)[1:]\n",
    "    tutors = [mapper.get_tutor_id(int(i[0])) for i in pred_idx]\n",
    "    return tutors"
   ]
  },
  {
   "cell_type": "code",
   "execution_count": 37,
   "metadata": {},
   "outputs": [
    {
     "name": "stdout",
     "output_type": "stream",
     "text": [
      "1 4c10212fc75188623bf4c5078efd097f413bbd96\n",
      "2 e8523194cbe5a6fb3a7b59ee95b37ac66c1eb14a\n",
      "3 e21a3a944b1f5837ce2007f5767b9172933c1df5\n",
      "4 6b0cd6a8094daf42e766ea257a2af3571831bb32\n",
      "5 df98e222a23a2bcb2fafa499fc1c8031a4a06c9c\n",
      "6 cd5c1243ab213d8b4fd91aa1d4258ec10d9dc911\n",
      "7 0ef07d2fa11c1b28843d6c50317772254ce3c124\n",
      "8 a8219afe96e13e29af67982093a47ce40ac164ab\n",
      "9 1d6291d5ac83d4492a6af1f6a5bebeba6b0744be\n",
      "10 473803e2ffa0706832ce4b5f6a70e4d076a0957c\n"
     ]
    }
   ],
   "source": [
    "# Getting tutor recommendations \n",
    "\n",
    "recommends = recommend_tutors(\"ff0d3fb21c00bc33f71187a2beec389e9eff5332\", als, mapper)\n",
    "\n",
    "for i, idx in enumerate(recommends):\n",
    "    print(i+1, idx)"
   ]
  },
  {
   "cell_type": "markdown",
   "metadata": {},
   "source": [
    "# Summary\n",
    "\n",
    "In this notebook we have built a Collaborative Search based recommendation system for implicit feedback dataset of user and tutor interactions. \n",
    "The Matrix Factosiation based Alternating Least Squares model was selected based on its performance (P-R AUC, ROC AUC, Precision) amongst the other \n",
    "(MF based) models.\n",
    "\n",
    "There are several challanges present in the data that had to be mitigated:\n",
    "\n",
    "- Outliers - users with an unplausibly high amount of interactions have been filtered out\n",
    "- High sparsity - density of the dataset was improved by applying a filtering function that allows to select only those users and tutors who pass certain frequency threshold \n",
    "- High class imbalance - choose metrics wisely. Precision-Recall curve AUC has proven to be more informative over ROC AUC, because it focuses on the underrepresented class of positive values (interactions between users and tutors)\n",
    "\n",
    "Steps to be done to improve the model in the given setup:\n",
    "\n",
    "- Better (broader) benchmarking - we have compared 3 matrix factorisation based models due to time constraints. Alternative approaches should be included + Knn as a baseline\n",
    "- Model tuning - grid search procedure should be applied to find optimal parameters of the best perorming model(s)\n",
    "- Ensemble learning - an interesting thing to try would be combining predictions from several algorithms and making recommendations based on (wighted) majority votes\n",
    "\n",
    "In the end, the presented model serves its purpose and delivers N recommendations given a tutor id"
   ]
  },
  {
   "cell_type": "code",
   "execution_count": null,
   "metadata": {},
   "outputs": [],
   "source": []
  }
 ],
 "metadata": {
  "kernelspec": {
   "display_name": "Python 3",
   "language": "python",
   "name": "python3"
  },
  "language_info": {
   "codemirror_mode": {
    "name": "ipython",
    "version": 3
   },
   "file_extension": ".py",
   "mimetype": "text/x-python",
   "name": "python",
   "nbconvert_exporter": "python",
   "pygments_lexer": "ipython3",
   "version": "3.6.9"
  }
 },
 "nbformat": 4,
 "nbformat_minor": 4
}
